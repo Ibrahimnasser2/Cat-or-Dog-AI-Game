{
 "cells": [
  {
   "cell_type": "code",
   "execution_count": 21,
   "metadata": {
    "id": "qYeMjQ2MuxEG"
   },
   "outputs": [],
   "source": [
    "import os\n",
    "import cv2\n",
    "import matplotlib.pyplot as plt  "
   ]
  },
  {
   "cell_type": "code",
   "execution_count": 22,
   "metadata": {
    "id": "MsffXa_0unxS"
   },
   "outputs": [],
   "source": [
    "path='brain_tumor'"
   ]
  },
  {
   "cell_type": "code",
   "execution_count": 23,
   "metadata": {
    "colab": {
     "base_uri": "https://localhost:8080/"
    },
    "id": "TH7laZPIudL1",
    "outputId": "aeb50cb6-2ddf-460e-faf1-22cbb526fde6"
   },
   "outputs": [
    {
     "data": {
      "text/plain": [
       "['Cat', 'Dog']"
      ]
     },
     "execution_count": 23,
     "metadata": {},
     "output_type": "execute_result"
    }
   ],
   "source": [
    "list(os.listdir(path+'/Training'))"
   ]
  },
  {
   "cell_type": "code",
   "execution_count": 24,
   "metadata": {
    "id": "B4eUz-oHGgbY"
   },
   "outputs": [],
   "source": [
    "labels=['Cat', 'Dog']\n",
    "class_map={\n",
    "    'Cat':0,\n",
    "    'Dog':1,\n",
    "   \n",
    "}\n",
    "\n",
    "Images=[]\n",
    "Labels=[]\n",
    "h,w=224,224"
   ]
  },
  {
   "cell_type": "markdown",
   "metadata": {
    "id": "xeUN37qiKkZK"
   },
   "source": [
    "## Read Data"
   ]
  },
  {
   "cell_type": "code",
   "execution_count": 25,
   "metadata": {
    "id": "OKy6byo1JH1T"
   },
   "outputs": [],
   "source": [
    "import matplotlib.pyplot as plt\n",
    "import matplotlib.image as mpimg\n",
    "from PIL import Image\n",
    "for label in labels:\n",
    "    folderpath=os.path.join(path+'/Training/',label)\n",
    "    for j in os.listdir(folderpath):\n",
    "        img  = Image.open(os.path.join(folderpath,j))\n",
    "        img=img.resize((h,w))\n",
    "        Images.append(img)\n",
    "        Labels.append(class_map[label])\n",
    "    \n"
   ]
  },
  {
   "cell_type": "code",
   "execution_count": 26,
   "metadata": {
    "id": "FgvlmpwVKnVb"
   },
   "outputs": [],
   "source": [
    "import matplotlib.pyplot as plt\n",
    "import matplotlib.image as mpimg\n",
    "from PIL import Image\n",
    "for label in labels:\n",
    "    folderpath=os.path.join(path+'/Testing/',label)\n",
    "    for j in os.listdir(folderpath):\n",
    "        img  = Image.open(os.path.join(folderpath,j))\n",
    "        img=img.resize((h,w))\n",
    "        Images.append(img)\n",
    "        Labels.append(class_map[label])\n",
    "    "
   ]
  },
  {
   "cell_type": "code",
   "execution_count": 27,
   "metadata": {
    "id": "czmsfH2wN0VS"
   },
   "outputs": [],
   "source": [
    "import numpy as np\n",
    "for i in range(len(Images)):\n",
    "    Images[i]=np.array(Images[i])\n",
    "    "
   ]
  },
  {
   "cell_type": "code",
   "execution_count": 28,
   "metadata": {
    "id": "8hRkub_tNjDr"
   },
   "outputs": [],
   "source": [
    "X=np.array(Images)\n",
    "y=np.array(Labels)"
   ]
  },
  {
   "cell_type": "code",
   "execution_count": 29,
   "metadata": {
    "colab": {
     "base_uri": "https://localhost:8080/"
    },
    "id": "AybBMfgLN3vu",
    "outputId": "73452588-cca2-435f-8355-4ca8d76048e6"
   },
   "outputs": [
    {
     "data": {
      "text/plain": [
       "((936, 224, 224, 3), (936,))"
      ]
     },
     "execution_count": 29,
     "metadata": {},
     "output_type": "execute_result"
    }
   ],
   "source": [
    "X.shape,y.shape"
   ]
  },
  {
   "cell_type": "markdown",
   "metadata": {
    "id": "0q5aHW77OJks"
   },
   "source": [
    "# Visualization"
   ]
  },
  {
   "cell_type": "code",
   "execution_count": null,
   "metadata": {
    "colab": {
     "base_uri": "https://localhost:8080/",
     "height": 51
    },
    "id": "LTEFN-tEOLpT",
    "outputId": "e968589e-c058-4776-c1ec-4f7f270ae22e"
   },
   "outputs": [],
   "source": [
    "\n"
   ]
  },
  {
   "cell_type": "code",
   "execution_count": null,
   "metadata": {
    "colab": {
     "base_uri": "https://localhost:8080/",
     "height": 35
    },
    "id": "KIkCnbJCLH3y",
    "outputId": "d500b67e-57b4-4cc3-87e9-54b0fc2c1f21"
   },
   "outputs": [],
   "source": []
  },
  {
   "cell_type": "code",
   "execution_count": null,
   "metadata": {
    "colab": {
     "base_uri": "https://localhost:8080/",
     "height": 206
    },
    "id": "t85-tZWQN_t8",
    "outputId": "fc7f5a2a-5285-44d9-d377-43d27345d846"
   },
   "outputs": [],
   "source": []
  },
  {
   "cell_type": "code",
   "execution_count": 30,
   "metadata": {
    "id": "IYC743vdPlde"
   },
   "outputs": [],
   "source": [
    "from sklearn.utils import shuffle\n",
    "X,y=shuffle(X,y)"
   ]
  },
  {
   "cell_type": "code",
   "execution_count": 31,
   "metadata": {
    "id": "U153w299cbN1"
   },
   "outputs": [],
   "source": [
    "from tensorflow.keras.utils import to_categorical\n",
    "y=to_categorical(y)"
   ]
  },
  {
   "cell_type": "code",
   "execution_count": 32,
   "metadata": {
    "id": "CVEpnJ0vZFO-"
   },
   "outputs": [],
   "source": [
    "from sklearn.model_selection import train_test_split \n",
    "train_X,test_X,train_y,test_y=train_test_split(X,y,test_size=0.2)"
   ]
  },
  {
   "cell_type": "code",
   "execution_count": 33,
   "metadata": {
    "colab": {
     "base_uri": "https://localhost:8080/"
    },
    "id": "4G2Kqi2nZS4a",
    "outputId": "39d07825-f7b0-4e39-87f2-c166e9229245"
   },
   "outputs": [
    {
     "name": "stdout",
     "output_type": "stream",
     "text": [
      "Model: \"sequential_1\"\n",
      "_________________________________________________________________\n",
      "Layer (type)                 Output Shape              Param #   \n",
      "=================================================================\n",
      "conv2d_2 (Conv2D)            (None, 222, 222, 32)      896       \n",
      "_________________________________________________________________\n",
      "max_pooling2d_2 (MaxPooling2 (None, 111, 111, 32)      0         \n",
      "_________________________________________________________________\n",
      "conv2d_3 (Conv2D)            (None, 109, 109, 64)      18496     \n",
      "_________________________________________________________________\n",
      "max_pooling2d_3 (MaxPooling2 (None, 54, 54, 64)        0         \n",
      "_________________________________________________________________\n",
      "flatten_1 (Flatten)          (None, 186624)            0         \n",
      "_________________________________________________________________\n",
      "dense_2 (Dense)              (None, 64)                11944000  \n",
      "_________________________________________________________________\n",
      "dense_3 (Dense)              (None, 2)                 130       \n",
      "=================================================================\n",
      "Total params: 11,963,522\n",
      "Trainable params: 11,963,522\n",
      "Non-trainable params: 0\n",
      "_________________________________________________________________\n"
     ]
    }
   ],
   "source": [
    "from keras import Sequential \n",
    "from keras.layers import Conv2D,MaxPooling2D,Flatten,Dense\n",
    "model=Sequential()\n",
    "\n",
    "model.add(Conv2D(32,(3,3),activation='relu',input_shape=(h,w,3)))\n",
    "model.add(MaxPooling2D((2,2)))\n",
    "model.add(Conv2D(64,(3,3),activation='relu'))\n",
    "model.add(MaxPooling2D((2,2)))\n",
    "model.add(Flatten())\n",
    "model.add(Dense(64,activation='relu'))\n",
    "model.add(Dense(2,activation='softmax'))\n",
    "model.summary()"
   ]
  },
  {
   "cell_type": "code",
   "execution_count": 34,
   "metadata": {
    "colab": {
     "base_uri": "https://localhost:8080/"
    },
    "id": "KN1idhEqa8Z0",
    "outputId": "3b3d6022-c67f-4e6c-8ff6-06fd34771e99"
   },
   "outputs": [],
   "source": [
    "model.compile(optimizer='adam',loss='categorical_crossentropy',metrics=['accuracy'])"
   ]
  },
  {
   "cell_type": "code",
   "execution_count": 35,
   "metadata": {
    "colab": {
     "base_uri": "https://localhost:8080/"
    },
    "id": "yHhzLszTcy42",
    "outputId": "3e78f824-1fb8-4427-ca29-f6841296e717"
   },
   "outputs": [],
   "source": [
    "from keras.models import load_model\n",
    "model=load_model('model.h5')\n",
    "\n"
   ]
  },
  {
   "cell_type": "code",
   "execution_count": null,
   "metadata": {},
   "outputs": [],
   "source": [
    "\n"
   ]
  },
  {
   "cell_type": "code",
   "execution_count": null,
   "metadata": {},
   "outputs": [],
   "source": [
    "\n"
   ]
  },
  {
   "cell_type": "code",
   "execution_count": 36,
   "metadata": {},
   "outputs": [
    {
     "data": {
      "image/png": "[encoded data removed]",
      "text/plain": [
       "<Figure size 432x288 with 1 Axes>"
      ]
     },
     "metadata": {
      "needs_background": "light"
     },
     "output_type": "display_data"
    }
   ],
   "source": [
    "\n",
    "plt.imshow(train_X[2].reshape(224,224,3))\n",
    "plt.show()\n"
   ]
  },
  {
   "cell_type": "code",
   "execution_count": null,
   "metadata": {},
   "outputs": [],
   "source": []
  },
  {
   "cell_type": "code",
   "execution_count": 37,
   "metadata": {
    "id": "d3pvEHxNgOqb"
   },
   "outputs": [],
   "source": [
    "ypred=model.predict_classes(train_X[2].reshape(-1,h,w,3))[0]"
   ]
  },
  {
   "cell_type": "code",
   "execution_count": 38,
   "metadata": {},
   "outputs": [
    {
     "data": {
      "text/plain": [
       "0"
      ]
     },
     "execution_count": 38,
     "metadata": {},
     "output_type": "execute_result"
    }
   ],
   "source": [
    "ypred"
   ]
  },
  {
   "cell_type": "code",
   "execution_count": 39,
   "metadata": {},
   "outputs": [
    {
     "name": "stdout",
     "output_type": "stream",
     "text": [
      "prediction :  0\n"
     ]
    }
   ],
   "source": [
    "print(\"prediction : \",ypred)\n"
   ]
  },
  {
   "cell_type": "code",
   "execution_count": 40,
   "metadata": {},
   "outputs": [],
   "source": [
    "from tkinter import *\n",
    "from tkinter import ttk\n",
    "from PIL import ImageTk,Image\n",
    "from tkinter import filedialog\n",
    "\n"
   ]
  },
  {
   "cell_type": "code",
   "execution_count": 41,
   "metadata": {},
   "outputs": [],
   "source": [
    "def openfilename():\n",
    "\n",
    "    # open file dialog box to select image\n",
    "    # The dialogue box has a title \"Open\"\n",
    "    filename = filedialog.askopenfilename(title ='\"pen')\n",
    "    return filename"
   ]
  },
  {
   "cell_type": "code",
   "execution_count": null,
   "metadata": {},
   "outputs": [],
   "source": [
    "\n"
   ]
  },
  {
   "cell_type": "code",
   "execution_count": 42,
   "metadata": {},
   "outputs": [],
   "source": [
    "def open_img1():\n",
    "    # Select the Imagename from a folder\n",
    "    x = openfilename()\n",
    "\n",
    "    # opens the image\n",
    "    img = Image.open(x)\n",
    "    img = img.resize((224, 224))\n",
    "\n",
    "    teimg=img.resize((400, 400))\n",
    "    teimg = ImageTk.PhotoImage(teimg)\n",
    "    \n",
    "    panel.configure(image=teimg)\n",
    "    panel.image = teimg\n",
    "\n",
    "    \n",
    "    \n",
    "    return img\n"
   ]
  },
  {
   "cell_type": "code",
   "execution_count": 43,
   "metadata": {
    "scrolled": true
   },
   "outputs": [],
   "source": [
    "root=Tk()\n",
    "style = ttk.Style()\n",
    "root.geometry(\"800x800\")\n",
    "root.title(\"Cat/Dog\")\n",
    "\n",
    "frame = Frame(root, relief = 'sunken',\n",
    "              bd = 1, bg = 'white')\n",
    "frame.pack(fill = 'both', expand = True,\n",
    "           padx = 10, pady = 10)\n",
    "\n",
    "lbl1=ttk.Label(frame,text=\"Welcome in Cat or Dog Game\",font=('Times New Roman',40,'italic'),foreground=\"red\",background = 'white')\n",
    "lbl1.pack(pady = 10, expand = True)\n",
    "\n",
    "img = Image.open(\"hema.jpeg\")\n",
    "img = ImageTk.PhotoImage(img)\n",
    "panel = Label(frame, image=img)\n",
    "panel.image = img\n",
    "panel.pack()\n",
    "\n",
    "\n",
    "\n",
    "button1=ttk.Button(frame,text=\"Let's Begin\")\n",
    "style.configure('TButton',foreground = 'red',font=('Times New Roman',40,'italic'))\n",
    "button1.pack(pady = 10, expand = True)\n",
    "button1.configure(style='TButton')\n",
    "\n",
    "\n",
    "\n",
    "\n",
    "def predict():\n",
    "    global z\n",
    "    z=open_img1()\n",
    "    z=np.array(z)\n",
    "    ypred=model.predict_classes((z).reshape(-1,h,w,3))[0]\n",
    "\n",
    "    if ypred == 0:\n",
    "        Output.insert(END,\"This is an image of a cat\")\n",
    "    else:\n",
    "        Output.insert(END,\"This is an image of a dog\")\n",
    "\n",
    "\n",
    "###########################################  The new window \n",
    "######## Top frame\n",
    "def butt1clk():\n",
    "    global new_window\n",
    "    new_window = Toplevel(root)\n",
    "    new_window.title(\"New Window\")\n",
    "    new_window.geometry(\"800x800\")\n",
    "    \n",
    "    frame2 = Frame(new_window, relief = 'sunken',\n",
    "              bd = 1, bg = 'white')\n",
    "    frame2.pack(fill = 'both', expand = True,padx = 10, pady = 10)\n",
    "\n",
    "    lbl2 = ttk.Label(frame2,text=\"Please select an image of either a dog or a cat\",font=('Times New Roman',30,'italic')\n",
    "                     ,foreground=\"black\")\n",
    "    lbl2.grid(row=0,column=0,columnspan=2,padx = 5, pady = 10)\n",
    "    \n",
    "\n",
    "    frame2.rowconfigure(0,weight=1)\n",
    "    frame2.rowconfigure(1,weight=1)\n",
    "    frame2.rowconfigure(2,weight=1)\n",
    "    frame2.rowconfigure(3,weight=1)\n",
    "\n",
    "    frame2.columnconfigure(0,weight=1)\n",
    "    frame2.columnconfigure(1,weight=1)\n",
    "\n",
    "    global panel\n",
    "    panel = Label(frame2)\n",
    "    panel.grid(row=2,column=0,columnspan=3,padx = 5, pady = 10)\n",
    "    \n",
    "    \n",
    "    button4=ttk.Button(frame2,text='Browse & Check',command= predict, )\n",
    "    button4.grid(row=4,column=0,columnspan=2,padx = 5, pady = 10)\n",
    "    style.configure('Info.TButton',font=('Times New Roman',30,'italic'),foreground=\"black\")\n",
    "    button4.configure(style='Info.TButton')\n",
    "    \n",
    "    lbl3 = ttk.Label(frame2,text=\"the Result\",font=('Times New Roman',30,'italic'),foreground=\"black\")\n",
    "    lbl3.grid(row=3,column=0) \n",
    "    \n",
    "    \n",
    "    \n",
    "    \n",
    "       \n",
    "    \n",
    "    global Output\n",
    "    Output = Text(frame2, height = 2,width = 25, bg = \"light cyan\",font=('Times New Roman',20,'italic'))\n",
    "    Output.grid(row=3,column=1)\n",
    "    \n",
    "    \n",
    "    \n",
    "    \n",
    "    \n",
    "    \n",
    "    \n",
    "    \n",
    "#########################################################\n",
    "    \n",
    "  \n",
    "button1.config(command=butt1clk)\n",
    "\n",
    "\n",
    "\n",
    "root.mainloop()"
   ]
  },
  {
   "cell_type": "code",
   "execution_count": null,
   "metadata": {},
   "outputs": [],
   "source": []
  },
  {
   "cell_type": "code",
   "execution_count": null,
   "metadata": {},
   "outputs": [],
   "source": []
  },
  {
   "cell_type": "code",
   "execution_count": 27,
   "metadata": {},
   "outputs": [],
   "source": []
  },
  {
   "cell_type": "code",
   "execution_count": null,
   "metadata": {},
   "outputs": [],
   "source": []
  },
  {
   "cell_type": "code",
   "execution_count": null,
   "metadata": {},
   "outputs": [],
   "source": []
  }
 ],
 "metadata": {
  "accelerator": "TPU",
  "colab": {
   "collapsed_sections": [],
   "name": "train_tumor_transferlearning.ipynb",
   "provenance": []
  },
  "kernelspec": {
   "display_name": "Python 3 (ipykernel)",
   "language": "python",
   "name": "python3"
  },
  "language_info": {
   "codemirror_mode": {
    "name": "ipython",
    "version": 3
   },
   "file_extension": ".py",
   "mimetype": "text/x-python",
   "name": "python",
   "nbconvert_exporter": "python",
   "pygments_lexer": "ipython3",
   "version": "3.8.11"
  }
 },
 "nbformat": 4,
 "nbformat_minor": 1
}
